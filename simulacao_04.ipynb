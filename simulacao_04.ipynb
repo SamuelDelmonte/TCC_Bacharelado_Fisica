{
 "cells": [
  {
   "cell_type": "markdown",
   "metadata": {},
   "source": [
    "## Computando numericamente os valores dos coeficientes $c_n$.\n",
    "Assume-se que a solução para a equação de Schrödinger é conhecida ou já calculada.  \n",
    "\n",
    "As soluções padrão para o poço quadrado infinito, no domínio $0<x<a$, são dadas por:\n",
    "$$\n",
    "\\left<x|\\psi_n\\right>=\\psi_n(x) = \\sqrt{\\frac{2}{a}} \\sin\\left(\\frac{n\\pi x}{a}\\right) \\\\\n",
    "$$\n",
    "$$\n",
    "E_n = \\frac{n^2 \\pi^2 \\hbar^2}{2ma^2}\n",
    "$$\n",
    "\n",
    "Para este problema, uma função de onda inicial é dada por $\\Psi(x,t=0)$.  \n",
    "\n",
    "Agora encontrar-se-á os coeficientes $c_n$, através da seguinte sintaxe:\n",
    "$$\n",
    "c_n = \\left<\\psi_n\\right.\\left|\\Psi(t=0)\\right> \\\\\n",
    "= \\int_0^a \\psi_n(x) \\Psi(x,t=0) dx\n",
    "$$\n",
    "É preciso fazer essa integral numericamente, para que funcione para qualquer função $\\Psi(x,0)$.\n"
   ]
  },
  {
   "cell_type": "code",
   "execution_count": 25,
   "metadata": {},
   "outputs": [],
   "source": [
    "%matplotlib inline\n",
    "import numpy as np\n",
    "import scipy.integrate as spi\n",
    "import matplotlib.pyplot as plt"
   ]
  },
  {
   "cell_type": "code",
   "execution_count": 26,
   "metadata": {},
   "outputs": [],
   "source": [
    "def f(x,a):\n",
    "    norm = np.sqrt(12./(a*a*a))\n",
    "    return(np.piecewise(x,[x<a/2.,x>=a/2.],\n",
    "                        [lambda x: norm*x ,\n",
    "                         lambda x: norm*(a-x)]))"
   ]
  },
  {
   "cell_type": "markdown",
   "metadata": {},
   "source": [
    "Em seguida, define-se a função $\\psi_n(x)$:"
   ]
  },
  {
   "cell_type": "code",
   "execution_count": 27,
   "metadata": {},
   "outputs": [],
   "source": [
    "def psi_n(x,n,a):\n",
    "    return(np.sqrt(2./a)*np.sin(n*x*np.pi/a))"
   ]
  },
  {
   "cell_type": "markdown",
   "metadata": {},
   "source": [
    "Pode-se, portanto, calcular o coeficiente $c_n$.  \n",
    "Primeiramente, escreve-se uma função simples (x,n,a) que multiplica $\\Psi(x,t=0)$ por $\\psi_n(x)$, de acordo com um $n$ específico.  \n",
    "Em seguida, encontra-se o coeficiente $c_n$ integrando tal função, de 0 a $a$.\n"
   ]
  },
  {
   "cell_type": "code",
   "execution_count": 28,
   "metadata": {},
   "outputs": [],
   "source": [
    "def int_fun(x,n,a):\n",
    "    return(f(x,a)*psi_n(x,n,a))\n",
    "\n",
    "def c(n,a):\n",
    "    if n==0 or n%2==0:       \n",
    "        return(0)\n",
    "    return( spi.quad(int_fun,0,a,args=(n,a),limit=100)[0])"
   ]
  },
  {
   "cell_type": "code",
   "execution_count": 51,
   "metadata": {},
   "outputs": [
    {
     "name": "stdout",
     "output_type": "stream",
     "text": [
      "Posições matriciais do coeficiente cx:  40\n",
      "Valores numéricos das posições iniciais: cx[0]= 0.0 cx[1]= 0.9927408002342286 cxz[2]= 0.0 cx[3]= -0.11030453335935887 cx[4]= 0.0\n",
      "Valor numérico da última posição: cx[Nmax-1]= -0.0006526895465042513\n",
      "Cálculo da área abaixo da curva gráfica, ou densidade de probabilidade:  cx|0<x<a|= 0.9999974367055641\n"
     ]
    }
   ],
   "source": [
    "Nmax=40 \n",
    "# Nmax, refere-se ao valor limite para a tupla c_n. \n",
    "#Quanto maior for seu valor, mais lento e preciso será seu processamento\n",
    "a_l = 10. \n",
    "#a_1 contabiliza a largura do poço\n",
    "a_step = 10./100. \n",
    "#a_step diz respeito à unidade do paço em x.\n",
    "#Quanto mennor for seu comprimento, maior será a precisão da análise em questão \n",
    "nl = np.array(range(Nmax))\n",
    "cx = np.array([c(n,a_l) for n in nl])\n",
    "print(\"Posições matriciais do coeficiente cx: \", len(cx))\n",
    "print('Valores numéricos das posições iniciais:','cx[0]=',cx[0],'cx[1]=',cx[1],'cxz[2]=',cx[2],'cx[3]=',cx[3],'cx[4]=',cx[4])\n",
    "print('Valor numérico da última posição:','cx[Nmax-1]=',cx[Nmax-1])\n",
    "print('Cálculo da área abaixo da curva gráfica, ou densidade de probabilidade: ','cx|0<x<a|=',np.sum(cx*cx))"
   ]
  },
  {
   "cell_type": "code",
   "execution_count": null,
   "metadata": {},
   "outputs": [],
   "source": []
  },
  {
   "cell_type": "code",
   "execution_count": null,
   "metadata": {},
   "outputs": [],
   "source": []
  },
  {
   "cell_type": "code",
   "execution_count": null,
   "metadata": {},
   "outputs": [],
   "source": []
  }
 ],
 "metadata": {
  "kernelspec": {
   "display_name": "Python [conda env:base] *",
   "language": "python",
   "name": "conda-base-py"
  },
  "language_info": {
   "codemirror_mode": {
    "name": "ipython",
    "version": 3
   },
   "file_extension": ".py",
   "mimetype": "text/x-python",
   "name": "python",
   "nbconvert_exporter": "python",
   "pygments_lexer": "ipython3",
   "version": "3.13.5"
  }
 },
 "nbformat": 4,
 "nbformat_minor": 4
}
